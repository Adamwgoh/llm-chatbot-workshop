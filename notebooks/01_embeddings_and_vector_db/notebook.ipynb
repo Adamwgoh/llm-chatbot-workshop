{
 "cells": [
  {
   "cell_type": "markdown",
   "metadata": {},
   "source": [
    "# 01 Embeddings and Vector Database\n",
    "\n",
    "In this notebook, you will learn about embeddings and storing/retrieving/search through a Vector Database\n",
    "\n",
    "### What are Embeddings?\n",
    "\n",
    "<CONTENT ABOUT LLM EMBEDDINGS HERE>\n",
    "\n",
    "Here are some code example of tiktoken based embeddings\n",
    "\n",
    "\n",
    "\n",
    "### LLM Model vs compatible embeddings\n",
    "\n",
    "Here are some other types of embeddings and their respecting compatibly models\n",
    "\n",
    "\n",
    "### Tokens\n",
    "\n",
    "### Converting inputs into Embeddings"
   ]
  },
  {
   "cell_type": "code",
   "execution_count": null,
   "metadata": {},
   "outputs": [],
   "source": [
    "# 01 Embeddings and Vector Database\n",
    "# Example code for token-based embeddings\n",
    "import importlib\n",
    "from pathlib import Path\n",
    "\n",
    "import tiktoken\n",
    "\n",
    "print(\"tiktoken version:\", importlib.metadata.version(\"tiktoken\"))\n",
    "\n",
    "\n",
    "\n",
    "# Define the vocabulary size and embedding dimension\n",
    "vocab_size = 10000\n",
    "embedding_dim = 100"
   ]
  },
  {
   "cell_type": "code",
   "execution_count": null,
   "metadata": {},
   "outputs": [],
   "source": [
    "filepath = Path(\"../../backend/assets/test/copypasta.txt\")\n",
    "enc = tiktoken.get_encoding(\"o200k_base\")\n",
    "assert enc.decode(enc.encode(\"hello world\")) == \"hello world\"\n",
    "\n",
    "# To get the tokeniser corresponding to a specific model in the OpenAI API:\n",
    "enc = tiktoken.encoding_for_model(\"gpt-4o\")\n",
    "\n",
    "text = filepath.read_text()\n",
    "\n",
    "enc.encode(text)"
   ]
  },
  {
   "cell_type": "code",
   "execution_count": 12,
   "metadata": {},
   "outputs": [
    {
     "data": {
      "text/plain": [
       "19"
      ]
     },
     "execution_count": 12,
     "metadata": {},
     "output_type": "execute_result"
    }
   ],
   "source": [
    "from pathlib import Path\n",
    "\n",
    "import pymupdf\n",
    "from langchain.embeddings.openai import OpenAIEmbeddings\n",
    "from langchain.prompts import PromptTemplate\n",
    "from langchain.text_splitter import RecursiveCharacterTextSplitter\n",
    "from langchain.vectorstores.milvus import Milvus\n",
    "\n",
    "# Load the PDF document\n",
    "pdf_path = Path(\"../../backend/assets/test/test.pdf\")\n",
    "pdf = pymupdf.open(pdf_path)\n",
    "\n",
    "# Extract the text from the PDF\n",
    "docs = \"\"\n",
    "for page in pdf:\n",
    "    docs += page.get_text()\n",
    "\n",
    "# Close the PDF document\n",
    "pdf.close()\n",
    "\n",
    "# Split the documents into smaller chunks\n",
    "text_splitter = RecursiveCharacterTextSplitter(chunk_size=1024, chunk_overlap=0)\n",
    "all_splits = text_splitter.split_text(docs)\n",
    "all_splits"
   ]
  },
  {
   "cell_type": "code",
   "execution_count": null,
   "metadata": {},
   "outputs": [],
   "source": [
    "from openai import client\n",
    "\n",
    "\n",
    "# use model \"gpt-3.5-turbo-instruct\" for text\n",
    "def generate_response_with_chatgpt(prompt):\n",
    "    response = client.completions.create(\n",
    "        model=\"gpt-3.o\",  # Choose appropriate model\n",
    "        prompt=prompt,\n",
    "        max_tokens=150,\n",
    "        n=1,\n",
    "        stop=None,\n",
    "        temperature=0.7,\n",
    "    )\n",
    "    return response.choices[0].text.strip()\n",
    "\n",
    "\n",
    "# filename = \"national-capitals.pdf\"\n",
    "# pdf_text = extract_text_from_pdf(filename)\n",
    "\n",
    "print(\"Ready - ask questions or exit with q/Q:\")\n",
    "while True:\n",
    "    user_query = input(\"==> \")\n",
    "    if user_query.lower().strip() == \"q\":\n",
    "        break\n",
    "    prompt = pdf_text + \"\\n\\n\" + user_query\n",
    "    response = generate_response_with_chatgpt(prompt)\n",
    "    print(\"Response:\\n\")\n",
    "    for line in textwrap.wrap(response, width=70):\n",
    "        print(line)\n",
    "    print(\"-\" * 10)"
   ]
  },
  {
   "cell_type": "code",
   "execution_count": null,
   "metadata": {},
   "outputs": [],
   "source": []
  },
  {
   "cell_type": "markdown",
   "metadata": {},
   "source": [
    "## Storing Embeddings in Vector Databases\n",
    "\n",
    "Instead of loading a document directly via the ChatUI, you may want to do a RAG prompt based off an existing maintained set of dataset.\n",
    "This dataset may contain post-process real time data that you have gathered using other systems.\n",
    "\n",
    "In order to do that, we need a vector database. One of the most common app to introduce to the concept of vector database is opensearch"
   ]
  },
  {
   "cell_type": "markdown",
   "metadata": {},
   "source": [
    "## Milvus\n",
    "\n",
    "For LLM, we will introduce Milvus\n",
    "\n",
    "There are various methods of deploying Milvus. In this scenario, we will use Milvus Lite.\n",
    "\n",
    "[Learn more here](https://milvus.io/docs/install-overview.md)"
   ]
  },
  {
   "cell_type": "markdown",
   "metadata": {},
   "source": []
  },
  {
   "cell_type": "code",
   "execution_count": null,
   "metadata": {},
   "outputs": [],
   "source": [
    "embeddings = OpenAIEmbeddings()\n",
    "connection_args = { 'uri': URI, 'token': TOKEN }\n",
    "\n",
    "vector_store = Milvus(\n",
    "    embedding_function=embeddings,\n",
    "    connection_args=connection_args,\n",
    "    collection_name=COLLECTION_NAME,\n",
    "    drop_old=True,\n",
    ").from_documents(\n",
    "    all_splits,\n",
    "    embedding=embeddings,\n",
    "    collection_name=COLLECTION_NAME,\n",
    "    connection_args=connection_args,\n",
    ")"
   ]
  }
 ],
 "metadata": {
  "kernelspec": {
   "display_name": ".venv",
   "language": "python",
   "name": "python3"
  },
  "language_info": {
   "codemirror_mode": {
    "name": "ipython",
    "version": 3
   },
   "file_extension": ".py",
   "mimetype": "text/x-python",
   "name": "python",
   "nbconvert_exporter": "python",
   "pygments_lexer": "ipython3",
   "version": "3.11.4"
  }
 },
 "nbformat": 4,
 "nbformat_minor": 2
}
