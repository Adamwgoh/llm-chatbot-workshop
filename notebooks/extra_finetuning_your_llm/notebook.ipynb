{
 "cells": [
  {
   "cell_type": "markdown",
   "metadata": {},
   "source": [
    "# 02 Finetuning LLM\n",
    "\n",
    "## Introduction\n",
    "\n",
    "## OpenInstruct\n",
    "\n",
    "## LLama Fine-Tuning\n",
    "\n",
    "https://www.llama.com/docs/how-to-guides/fine-tuning/\n",
    "\n",
    "\n",
    "## OpenAI Fine-tuning\n",
    "\n",
    "OpenAI allows finetuning of their GPT models as well with pricing attached to them\n",
    "\n",
    "Reference: https://openai.com/api/pricing/"
   ]
  }
 ],
 "metadata": {
  "kernelspec": {
   "display_name": ".venv",
   "language": "python",
   "name": "python3"
  },
  "language_info": {
   "codemirror_mode": {
    "name": "ipython",
    "version": 3
   },
   "file_extension": ".py",
   "mimetype": "text/x-python",
   "name": "python",
   "nbconvert_exporter": "python",
   "pygments_lexer": "ipython3",
   "version": "3.11.4"
  }
 },
 "nbformat": 4,
 "nbformat_minor": 2
}
